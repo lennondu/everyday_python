{
 "cells": [
  {
   "cell_type": "markdown",
   "metadata": {},
   "source": [
    "## 0002 将 0001 题生成的 200 个激活码（或者优惠券）保存到 MySQL 关系型数据库中。"
   ]
  },
  {
   "cell_type": "code",
   "execution_count": 2,
   "metadata": {
    "collapsed": false
   },
   "outputs": [],
   "source": [
    "from gac import gen_active_code\n",
    "import MySQLdb"
   ]
  },
  {
   "cell_type": "code",
   "execution_count": 4,
   "metadata": {
    "collapsed": false
   },
   "outputs": [
    {
     "name": "stdout",
     "output_type": "stream",
     "text": [
      "True\n"
     ]
    }
   ],
   "source": [
    "#generate active code\n",
    "code = gen_active_code()\n",
    "\n",
    "db = MySQLdb.connect('localhost','lennon','123','gac')\n",
    "cursor = db.cursor()\n",
    "cursor.execute('drop table if exists active_code;')\n",
    "# create table \n",
    "table_sql = '''\n",
    "    create table active_code(\n",
    "        active_code varchar(12) not null primary key\n",
    "    );\n",
    "'''\n",
    "cursor.execute(table_sql)\n",
    "# insert\n",
    "ins_sql=\"insert into active_code values(%s)\"\n",
    "try:\n",
    "    cursor.executemany(ins_sql,code)\n",
    "    db.commit()\n",
    "except Exception, e:\n",
    "    print e\n",
    "    db.rollback()\n",
    "#check\n",
    "read_sql = '''\n",
    "    select * from active_code\n",
    "'''\n",
    "read_code = []\n",
    "try:\n",
    "    cursor.execute(read_sql)\n",
    "    results = cursor.fetchall()\n",
    "    for row in results:\n",
    "        read_code.append(row[0])\n",
    "except Exception, e:\n",
    "    print e\n",
    "    print \"Error: unable to fecth data\"\n",
    "\n",
    "print sorted(read_code)==sorted(code)\n"
   ]
  }
 ],
 "metadata": {
  "kernelspec": {
   "display_name": "Python 2",
   "language": "python",
   "name": "python2"
  },
  "language_info": {
   "codemirror_mode": {
    "name": "ipython",
    "version": 2
   },
   "file_extension": ".py",
   "mimetype": "text/x-python",
   "name": "python",
   "nbconvert_exporter": "python",
   "pygments_lexer": "ipython2",
   "version": "2.7.6"
  }
 },
 "nbformat": 4,
 "nbformat_minor": 0
}

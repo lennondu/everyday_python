{
 "cells": [
  {
   "cell_type": "markdown",
   "metadata": {},
   "source": [
    "## 你有一个目录，装了很多照片，把它们的尺寸变成都不大于 iPhone5 分辨率的大小。"
   ]
  },
  {
   "cell_type": "code",
   "execution_count": 2,
   "metadata": {
    "collapsed": true
   },
   "outputs": [],
   "source": [
    "import os\n",
    "from PIL import Image"
   ]
  },
  {
   "cell_type": "code",
   "execution_count": 8,
   "metadata": {
    "collapsed": false
   },
   "outputs": [],
   "source": [
    "def resize(dic='./photo/',rp=(750,1334)):\n",
    "    photos = os.listdir(dic)\n",
    "    if not os.path.exists(dic+'resized_photo'):\n",
    "        os.mkdir(dic+'resized_photo')\n",
    "    for i in photos:\n",
    "        try:\n",
    "            im = Image.open(dic+i)\n",
    "        except Exception,e:\n",
    "            print e\n",
    "            print i\n",
    "            continue\n",
    "        else:\n",
    "            resized_im = im.resize(rp)\n",
    "            resized_im.save(dic+'resized_photo/'+i)\n",
    "\n",
    "resize()"
   ]
  }
 ],
 "metadata": {
  "kernelspec": {
   "display_name": "Python 2",
   "language": "python",
   "name": "python2"
  },
  "language_info": {
   "codemirror_mode": {
    "name": "ipython",
    "version": 2
   },
   "file_extension": ".py",
   "mimetype": "text/x-python",
   "name": "python",
   "nbconvert_exporter": "python",
   "pygments_lexer": "ipython2",
   "version": "2.7.6"
  }
 },
 "nbformat": 4,
 "nbformat_minor": 0
}

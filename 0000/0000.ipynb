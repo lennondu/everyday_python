{
 "cells": [
  {
   "cell_type": "markdown",
   "metadata": {},
   "source": [
    "# 0000 \n",
    "使用Pillow软件包可以非常简单的完成这个问题，但是好像ico这样的缩略图是不能很好的支持Pilllow的操作"
   ]
  },
  {
   "cell_type": "code",
   "execution_count": 1,
   "metadata": {
    "collapsed": true
   },
   "outputs": [],
   "source": [
    "from PIL import Image,ImageDraw,ImageFont"
   ]
  },
  {
   "cell_type": "code",
   "execution_count": 52,
   "metadata": {
    "collapsed": false
   },
   "outputs": [
    {
     "name": "stdout",
     "output_type": "stream",
     "text": [
      "Please enter the number:100\n",
      "99+\n"
     ]
    }
   ],
   "source": [
    "im = Image.open('a')\n",
    "\n",
    "im_data = np.array(list(im.getdata())).reshape((im.size[0],im.size[1],4))\n",
    "text = raw_input(\"Please enter the number:\")\n",
    "text = text.strip()\n",
    "fnt = ImageFont.truetype('msyh.ttf',size=20)\n",
    "if int(text)>99:\n",
    "    text = '99+'\n",
    "print text\n",
    "dr = ImageDraw.Draw(im)\n",
    "dr.text((im.size[1]-35,0),text,font=fnt,fill='#ff0000')\n",
    "\n",
    "im.save('b','png')"
   ]
  }
 ],
 "metadata": {
  "kernelspec": {
   "display_name": "Python 2",
   "language": "python",
   "name": "python2"
  },
  "language_info": {
   "codemirror_mode": {
    "name": "ipython",
    "version": 2
   },
   "file_extension": ".py",
   "mimetype": "text/x-python",
   "name": "python",
   "nbconvert_exporter": "python",
   "pygments_lexer": "ipython2",
   "version": "2.7.6"
  }
 },
 "nbformat": 4,
 "nbformat_minor": 0
}

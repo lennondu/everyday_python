{
 "cells": [
  {
   "cell_type": "markdown",
   "metadata": {},
   "source": [
    "## 0004 任一个英文的纯文本文件，统计其中的单词出现的个数。"
   ]
  },
  {
   "cell_type": "code",
   "execution_count": 19,
   "metadata": {
    "collapsed": true
   },
   "outputs": [],
   "source": [
    "import re\n",
    "import string\n",
    "from collections import Counter"
   ]
  },
  {
   "cell_type": "code",
   "execution_count": 20,
   "metadata": {
    "collapsed": false
   },
   "outputs": [],
   "source": [
    "def count(url):\n",
    "    content=[]\n",
    "    pattern_s = '['+string.punctuation+']'\n",
    "    pattern = re.compile(pattern_s)\n",
    "    with open(url) as f:\n",
    "        for i in f:\n",
    "            if i=='\\n':\n",
    "                pass\n",
    "            else:\n",
    "                content.append(re.sub(pattern,'',i.strip()))\n",
    "    \n",
    "    all_lines = ' '.join(content)\n",
    "    all_words = all_lines.split(' ')\n",
    "    result = Counter(all_words)\n",
    "    table = dict(result)\n",
    "    for key in table:\n",
    "        print key,'\\t',table[key]\n",
    "        "
   ]
  },
  {
   "cell_type": "code",
   "execution_count": 22,
   "metadata": {
    "collapsed": false
   },
   "outputs": [
    {
     "name": "stdout",
     "output_type": "stream",
     "text": [
      "golden \t1\n",
      "all \t1\n",
      "they \t1\n",
      "less \t1\n",
      "amid \t1\n",
      "within \t3\n",
      "Take \t1\n",
      "yet \t1\n",
      "hold \t1\n",
      "from \t2\n",
      "few \t1\n",
      "parting \t1\n",
      "But \t1\n",
      "to \t1\n",
      "much \t1\n",
      "therefore \t1\n",
      "has \t1\n",
      "hope \t1\n",
      "me \t1\n",
      "that \t2\n",
      "Of \t1\n",
      "but \t1\n",
      "wave \t1\n",
      "While \t1\n",
      "Yet \t1\n",
      "kiss \t1\n",
      "not \t3\n",
      "now \t1\n",
      "with \t1\n",
      "day \t1\n",
      "And \t2\n",
      "none \t1\n",
      "save \t1\n",
      "clasp \t1\n",
      "this \t1\n",
      "sand \t1\n",
      "deem \t1\n",
      "can \t2\n",
      "night \t1\n",
      "grasp \t1\n",
      "my \t3\n",
      "vision \t1\n",
      "gone \t1\n",
      "God \t2\n",
      "brow \t1\n",
      "it \t1\n",
      "deep \t1\n",
      "How \t1\n",
      "see \t2\n",
      "been \t1\n",
      "are \t1\n",
      "have \t1\n",
      "in \t3\n",
      "You \t1\n",
      "seem \t2\n",
      "creep \t1\n",
      "if \t1\n",
      "Them \t1\n",
      "That \t1\n",
      "away \t1\n",
      "weepwhile \t1\n",
      "fingers \t1\n",
      "surftormented \t1\n",
      "you \t1\n",
      "pitiless \t1\n",
      "we \t2\n",
      "avow \t1\n",
      "Grains \t1\n",
      "I \t6\n",
      "who \t1\n",
      "upon \t1\n",
      "O \t2\n",
      "hand \t1\n",
      "how \t1\n",
      "wrong \t1\n",
      "flown \t1\n",
      "let \t1\n",
      "weep \t1\n",
      "tighter \t1\n",
      "a \t10\n",
      "All \t1\n",
      "roar \t1\n",
      "of \t1\n",
      "Is \t3\n",
      "Thus \t1\n",
      "days \t1\n",
      "One \t1\n",
      "shore \t1\n",
      "Through \t1\n",
      "stand \t1\n",
      "In \t2\n",
      "the \t6\n",
      "dream \t5\n",
      "or \t4\n"
     ]
    }
   ],
   "source": [
    "count('A Dream Within A Dream.txt')"
   ]
  }
 ],
 "metadata": {
  "kernelspec": {
   "display_name": "Python 2",
   "language": "python",
   "name": "python2"
  },
  "language_info": {
   "codemirror_mode": {
    "name": "ipython",
    "version": 2
   },
   "file_extension": ".py",
   "mimetype": "text/x-python",
   "name": "python",
   "nbconvert_exporter": "python",
   "pygments_lexer": "ipython2",
   "version": "2.7.6"
  }
 },
 "nbformat": 4,
 "nbformat_minor": 0
}
